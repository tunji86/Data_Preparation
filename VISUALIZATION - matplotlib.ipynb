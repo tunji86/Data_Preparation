{
 "cells": [
  {
   "cell_type": "code",
   "execution_count": 26,
   "metadata": {},
   "outputs": [],
   "source": [
    "import pandas as pd\n",
    "\n",
    "pd.core.common.is_list_like = pd.api.types.is_list_like\n",
    "from pandas_datareader import data\n",
    "import matplotlib.pyplot as plt\n",
    "%matplotlib inline"
   ]
  },
  {
   "cell_type": "code",
   "execution_count": null,
   "metadata": {},
   "outputs": [],
   "source": []
  },
  {
   "cell_type": "markdown",
   "metadata": {},
   "source": [
    "The .plot() Method"
   ]
  },
  {
   "cell_type": "code",
   "execution_count": 27,
   "metadata": {},
   "outputs": [
    {
     "data": {
      "text/html": [
       "<div>\n",
       "<style scoped>\n",
       "    .dataframe tbody tr th:only-of-type {\n",
       "        vertical-align: middle;\n",
       "    }\n",
       "\n",
       "    .dataframe tbody tr th {\n",
       "        vertical-align: top;\n",
       "    }\n",
       "\n",
       "    .dataframe thead th {\n",
       "        text-align: right;\n",
       "    }\n",
       "</style>\n",
       "<table border=\"1\" class=\"dataframe\">\n",
       "  <thead>\n",
       "    <tr style=\"text-align: right;\">\n",
       "      <th></th>\n",
       "      <th></th>\n",
       "      <th>Close</th>\n",
       "      <th>High</th>\n",
       "      <th>Low</th>\n",
       "      <th>Open</th>\n",
       "      <th>Volume</th>\n",
       "    </tr>\n",
       "    <tr>\n",
       "      <th>Symbol</th>\n",
       "      <th>Date</th>\n",
       "      <th></th>\n",
       "      <th></th>\n",
       "      <th></th>\n",
       "      <th></th>\n",
       "      <th></th>\n",
       "    </tr>\n",
       "  </thead>\n",
       "  <tbody>\n",
       "    <tr>\n",
       "      <th rowspan=\"5\" valign=\"top\">BBRY</th>\n",
       "      <th>2000-10-10</th>\n",
       "      <td>17.0000</td>\n",
       "      <td>18.3333</td>\n",
       "      <td>16.5833</td>\n",
       "      <td>18.2100</td>\n",
       "      <td>14497800</td>\n",
       "    </tr>\n",
       "    <tr>\n",
       "      <th>2000-10-11</th>\n",
       "      <td>15.9688</td>\n",
       "      <td>17.2396</td>\n",
       "      <td>15.9688</td>\n",
       "      <td>17.0000</td>\n",
       "      <td>18823800</td>\n",
       "    </tr>\n",
       "    <tr>\n",
       "      <th>2000-10-12</th>\n",
       "      <td>15.1250</td>\n",
       "      <td>16.6458</td>\n",
       "      <td>14.5000</td>\n",
       "      <td>16.1667</td>\n",
       "      <td>9622800</td>\n",
       "    </tr>\n",
       "    <tr>\n",
       "      <th>2000-10-13</th>\n",
       "      <td>16.5833</td>\n",
       "      <td>16.8333</td>\n",
       "      <td>14.4740</td>\n",
       "      <td>14.6667</td>\n",
       "      <td>17314800</td>\n",
       "    </tr>\n",
       "    <tr>\n",
       "      <th>2000-10-16</th>\n",
       "      <td>18.2083</td>\n",
       "      <td>18.4793</td>\n",
       "      <td>16.2500</td>\n",
       "      <td>16.9167</td>\n",
       "      <td>15256200</td>\n",
       "    </tr>\n",
       "  </tbody>\n",
       "</table>\n",
       "</div>"
      ],
      "text/plain": [
       "                     Close     High      Low     Open    Volume\n",
       "Symbol Date                                                    \n",
       "BBRY   2000-10-10  17.0000  18.3333  16.5833  18.2100  14497800\n",
       "       2000-10-11  15.9688  17.2396  15.9688  17.0000  18823800\n",
       "       2000-10-12  15.1250  16.6458  14.5000  16.1667   9622800\n",
       "       2000-10-13  16.5833  16.8333  14.4740  14.6667  17314800\n",
       "       2000-10-16  18.2083  18.4793  16.2500  16.9167  15256200"
      ]
     },
     "execution_count": 27,
     "metadata": {},
     "output_type": "execute_result"
    }
   ],
   "source": [
    "\n",
    "stocks = data.DataReader(name='BBRY',data_source='morningstar',start='2000-10-10', end='now')\n",
    "stocks.head()"
   ]
  },
  {
   "cell_type": "code",
   "execution_count": 28,
   "metadata": {},
   "outputs": [],
   "source": [
    "#data.get_data_morningstar('BBRY')"
   ]
  },
  {
   "cell_type": "code",
   "execution_count": 29,
   "metadata": {},
   "outputs": [
    {
     "data": {
      "text/html": [
       "<div>\n",
       "<style scoped>\n",
       "    .dataframe tbody tr th:only-of-type {\n",
       "        vertical-align: middle;\n",
       "    }\n",
       "\n",
       "    .dataframe tbody tr th {\n",
       "        vertical-align: top;\n",
       "    }\n",
       "\n",
       "    .dataframe thead th {\n",
       "        text-align: right;\n",
       "    }\n",
       "</style>\n",
       "<table border=\"1\" class=\"dataframe\">\n",
       "  <thead>\n",
       "    <tr style=\"text-align: right;\">\n",
       "      <th></th>\n",
       "      <th>Close</th>\n",
       "      <th>High</th>\n",
       "      <th>Low</th>\n",
       "      <th>Open</th>\n",
       "      <th>Volume</th>\n",
       "    </tr>\n",
       "  </thead>\n",
       "  <tbody>\n",
       "    <tr>\n",
       "      <th>count</th>\n",
       "      <td>4632.000000</td>\n",
       "      <td>4632.000000</td>\n",
       "      <td>4632.000000</td>\n",
       "      <td>4632.000000</td>\n",
       "      <td>4.632000e+03</td>\n",
       "    </tr>\n",
       "    <tr>\n",
       "      <th>mean</th>\n",
       "      <td>27.243522</td>\n",
       "      <td>27.808414</td>\n",
       "      <td>26.692362</td>\n",
       "      <td>27.271303</td>\n",
       "      <td>1.742302e+07</td>\n",
       "    </tr>\n",
       "    <tr>\n",
       "      <th>std</th>\n",
       "      <td>29.795094</td>\n",
       "      <td>30.409681</td>\n",
       "      <td>29.172533</td>\n",
       "      <td>29.834979</td>\n",
       "      <td>1.705036e+07</td>\n",
       "    </tr>\n",
       "    <tr>\n",
       "      <th>min</th>\n",
       "      <td>1.403300</td>\n",
       "      <td>1.466700</td>\n",
       "      <td>1.386700</td>\n",
       "      <td>1.423300</td>\n",
       "      <td>0.000000e+00</td>\n",
       "    </tr>\n",
       "    <tr>\n",
       "      <th>25%</th>\n",
       "      <td>7.590000</td>\n",
       "      <td>7.723750</td>\n",
       "      <td>7.460000</td>\n",
       "      <td>7.590000</td>\n",
       "      <td>7.252268e+06</td>\n",
       "    </tr>\n",
       "    <tr>\n",
       "      <th>50%</th>\n",
       "      <td>13.333300</td>\n",
       "      <td>13.650000</td>\n",
       "      <td>13.025000</td>\n",
       "      <td>13.360000</td>\n",
       "      <td>1.367882e+07</td>\n",
       "    </tr>\n",
       "    <tr>\n",
       "      <th>75%</th>\n",
       "      <td>40.580000</td>\n",
       "      <td>41.600825</td>\n",
       "      <td>39.440000</td>\n",
       "      <td>40.642500</td>\n",
       "      <td>2.209381e+07</td>\n",
       "    </tr>\n",
       "    <tr>\n",
       "      <th>max</th>\n",
       "      <td>147.550000</td>\n",
       "      <td>148.130000</td>\n",
       "      <td>143.890000</td>\n",
       "      <td>146.480000</td>\n",
       "      <td>3.505191e+08</td>\n",
       "    </tr>\n",
       "  </tbody>\n",
       "</table>\n",
       "</div>"
      ],
      "text/plain": [
       "             Close         High          Low         Open        Volume\n",
       "count  4632.000000  4632.000000  4632.000000  4632.000000  4.632000e+03\n",
       "mean     27.243522    27.808414    26.692362    27.271303  1.742302e+07\n",
       "std      29.795094    30.409681    29.172533    29.834979  1.705036e+07\n",
       "min       1.403300     1.466700     1.386700     1.423300  0.000000e+00\n",
       "25%       7.590000     7.723750     7.460000     7.590000  7.252268e+06\n",
       "50%      13.333300    13.650000    13.025000    13.360000  1.367882e+07\n",
       "75%      40.580000    41.600825    39.440000    40.642500  2.209381e+07\n",
       "max     147.550000   148.130000   143.890000   146.480000  3.505191e+08"
      ]
     },
     "execution_count": 29,
     "metadata": {},
     "output_type": "execute_result"
    }
   ],
   "source": [
    "stocks.describe()"
   ]
  },
  {
   "cell_type": "code",
   "execution_count": 37,
   "metadata": {},
   "outputs": [
    {
     "data": {
      "text/plain": [
       "<matplotlib.axes._subplots.AxesSubplot at 0x216b958eb38>"
      ]
     },
     "execution_count": 37,
     "metadata": {},
     "output_type": "execute_result"
    },
    {
     "data": {
      "image/png": "[encoded data removed]",
      "text/plain": [
       "<Figure size 432x288 with 1 Axes>"
      ]
     },
     "metadata": {},
     "output_type": "display_data"
    }
   ],
   "source": [
    "stocks['Close'].plot(y='High',legend=True,kind='hist')"
   ]
  },
  {
   "cell_type": "code",
   "execution_count": 31,
   "metadata": {},
   "outputs": [
    {
     "data": {
      "text/plain": [
       "<matplotlib.axes._subplots.AxesSubplot at 0x216af491320>"
      ]
     },
     "execution_count": 31,
     "metadata": {},
     "output_type": "execute_result"
    },
    {
     "data": {
      "image/png": "[encoded data removed]",
      "text/plain": [
       "<Figure size 432x288 with 1 Axes>"
      ]
     },
     "metadata": {},
     "output_type": "display_data"
    }
   ],
   "source": [
    "plt.style.use('dark_background')\n",
    "stocks['High'].plot()"
   ]
  },
  {
   "cell_type": "code",
   "execution_count": 32,
   "metadata": {
    "scrolled": true
   },
   "outputs": [
    {
     "data": {
      "text/plain": [
       "['bmh',\n",
       " 'classic',\n",
       " 'dark_background',\n",
       " 'fast',\n",
       " 'fivethirtyeight',\n",
       " 'ggplot',\n",
       " 'grayscale',\n",
       " 'seaborn-bright',\n",
       " 'seaborn-colorblind',\n",
       " 'seaborn-dark-palette',\n",
       " 'seaborn-dark',\n",
       " 'seaborn-darkgrid',\n",
       " 'seaborn-deep',\n",
       " 'seaborn-muted',\n",
       " 'seaborn-notebook',\n",
       " 'seaborn-paper',\n",
       " 'seaborn-pastel',\n",
       " 'seaborn-poster',\n",
       " 'seaborn-talk',\n",
       " 'seaborn-ticks',\n",
       " 'seaborn-white',\n",
       " 'seaborn-whitegrid',\n",
       " 'seaborn',\n",
       " 'Solarize_Light2',\n",
       " 'tableau-colorblind10',\n",
       " '_classic_test']"
      ]
     },
     "execution_count": 32,
     "metadata": {},
     "output_type": "execute_result"
    }
   ],
   "source": [
    "plt.style.available"
   ]
  },
  {
   "cell_type": "code",
   "execution_count": null,
   "metadata": {},
   "outputs": [],
   "source": []
  },
  {
   "cell_type": "code",
   "execution_count": 33,
   "metadata": {},
   "outputs": [
    {
     "data": {
      "text/html": [
       "<div>\n",
       "<style scoped>\n",
       "    .dataframe tbody tr th:only-of-type {\n",
       "        vertical-align: middle;\n",
       "    }\n",
       "\n",
       "    .dataframe tbody tr th {\n",
       "        vertical-align: top;\n",
       "    }\n",
       "\n",
       "    .dataframe thead th {\n",
       "        text-align: right;\n",
       "    }\n",
       "</style>\n",
       "<table border=\"1\" class=\"dataframe\">\n",
       "  <thead>\n",
       "    <tr style=\"text-align: right;\">\n",
       "      <th></th>\n",
       "      <th></th>\n",
       "      <th>Close</th>\n",
       "      <th>High</th>\n",
       "      <th>Low</th>\n",
       "      <th>Open</th>\n",
       "      <th>Volume</th>\n",
       "    </tr>\n",
       "    <tr>\n",
       "      <th>Symbol</th>\n",
       "      <th>Date</th>\n",
       "      <th></th>\n",
       "      <th></th>\n",
       "      <th></th>\n",
       "      <th></th>\n",
       "      <th></th>\n",
       "    </tr>\n",
       "  </thead>\n",
       "  <tbody>\n",
       "    <tr>\n",
       "      <th rowspan=\"5\" valign=\"top\">GOOG</th>\n",
       "      <th>2014-03-27</th>\n",
       "      <td>556.9312</td>\n",
       "      <td>566.4451</td>\n",
       "      <td>551.4064</td>\n",
       "      <td>566.4451</td>\n",
       "      <td>13087</td>\n",
       "    </tr>\n",
       "    <tr>\n",
       "      <th>2014-03-28</th>\n",
       "      <td>558.4570</td>\n",
       "      <td>564.8794</td>\n",
       "      <td>557.1406</td>\n",
       "      <td>559.7136</td>\n",
       "      <td>41115</td>\n",
       "    </tr>\n",
       "    <tr>\n",
       "      <th>2014-03-31</th>\n",
       "      <td>555.4453</td>\n",
       "      <td>565.4478</td>\n",
       "      <td>555.4054</td>\n",
       "      <td>565.3381</td>\n",
       "      <td>10801</td>\n",
       "    </tr>\n",
       "    <tr>\n",
       "      <th>2014-04-01</th>\n",
       "      <td>565.6074</td>\n",
       "      <td>566.8939</td>\n",
       "      <td>557.1805</td>\n",
       "      <td>557.1805</td>\n",
       "      <td>7953</td>\n",
       "    </tr>\n",
       "    <tr>\n",
       "      <th>2014-04-02</th>\n",
       "      <td>565.4478</td>\n",
       "      <td>603.1743</td>\n",
       "      <td>560.6510</td>\n",
       "      <td>579.1702</td>\n",
       "      <td>147099</td>\n",
       "    </tr>\n",
       "  </tbody>\n",
       "</table>\n",
       "</div>"
      ],
      "text/plain": [
       "                      Close      High       Low      Open  Volume\n",
       "Symbol Date                                                      \n",
       "GOOG   2014-03-27  556.9312  566.4451  551.4064  566.4451   13087\n",
       "       2014-03-28  558.4570  564.8794  557.1406  559.7136   41115\n",
       "       2014-03-31  555.4453  565.4478  555.4054  565.3381   10801\n",
       "       2014-04-01  565.6074  566.8939  557.1805  557.1805    7953\n",
       "       2014-04-02  565.4478  603.1743  560.6510  579.1702  147099"
      ]
     },
     "execution_count": 33,
     "metadata": {},
     "output_type": "execute_result"
    }
   ],
   "source": [
    "g = data.DataReader(name='GOOG',data_source='morningstar',start='2000-10-10', end='now')\n",
    "g.head()"
   ]
  },
  {
   "cell_type": "code",
   "execution_count": 9,
   "metadata": {},
   "outputs": [
    {
     "data": {
      "text/plain": [
       "<matplotlib.axes._subplots.AxesSubplot at 0x216acd7cf60>"
      ]
     },
     "execution_count": 9,
     "metadata": {},
     "output_type": "execute_result"
    },
    {
     "data": {
      "image/png": "[encoded data removed]",
      "text/plain": [
       "<Figure size 432x288 with 1 Axes>"
      ]
     },
     "metadata": {},
     "output_type": "display_data"
    }
   ],
   "source": [
    "g.plot()"
   ]
  },
  {
   "cell_type": "code",
   "execution_count": 10,
   "metadata": {},
   "outputs": [],
   "source": [
    "    def perf_rank(price):\n",
    "        if price <= 2000:\n",
    "            return 'Poor'\n",
    "        elif price > 2000 and price <= 12000:\n",
    "            return 'Good'\n",
    "        else:\n",
    "            return 'Excellent'"
   ]
  },
  {
   "cell_type": "code",
   "execution_count": 34,
   "metadata": {
    "collapsed": true
   },
   "outputs": [
    {
     "data": {
      "text/plain": [
       "Symbol  Date      \n",
       "GOOG    2014-03-27    Excellent\n",
       "        2014-03-28    Excellent\n",
       "        2014-03-31         Good\n",
       "        2014-04-01         Good\n",
       "        2014-04-02    Excellent\n",
       "        2014-04-03    Excellent\n",
       "        2014-04-04    Excellent\n",
       "        2014-04-07    Excellent\n",
       "        2014-04-08    Excellent\n",
       "        2014-04-09    Excellent\n",
       "        2014-04-10    Excellent\n",
       "        2014-04-11    Excellent\n",
       "        2014-04-14    Excellent\n",
       "        2014-04-15    Excellent\n",
       "        2014-04-16    Excellent\n",
       "        2014-04-17    Excellent\n",
       "        2014-04-18         Poor\n",
       "        2014-04-21    Excellent\n",
       "        2014-04-22    Excellent\n",
       "        2014-04-23    Excellent\n",
       "        2014-04-24    Excellent\n",
       "        2014-04-25    Excellent\n",
       "        2014-04-28    Excellent\n",
       "        2014-04-29    Excellent\n",
       "        2014-04-30    Excellent\n",
       "        2014-05-01    Excellent\n",
       "        2014-05-02    Excellent\n",
       "        2014-05-05    Excellent\n",
       "        2014-05-06    Excellent\n",
       "        2014-05-07    Excellent\n",
       "                        ...    \n",
       "        2018-05-31    Excellent\n",
       "        2018-06-01    Excellent\n",
       "        2018-06-04    Excellent\n",
       "        2018-06-05    Excellent\n",
       "        2018-06-06    Excellent\n",
       "        2018-06-07    Excellent\n",
       "        2018-06-08    Excellent\n",
       "        2018-06-11    Excellent\n",
       "        2018-06-12    Excellent\n",
       "        2018-06-13    Excellent\n",
       "        2018-06-14    Excellent\n",
       "        2018-06-15    Excellent\n",
       "        2018-06-18    Excellent\n",
       "        2018-06-19    Excellent\n",
       "        2018-06-20    Excellent\n",
       "        2018-06-21    Excellent\n",
       "        2018-06-22    Excellent\n",
       "        2018-06-25    Excellent\n",
       "        2018-06-26    Excellent\n",
       "        2018-06-27    Excellent\n",
       "        2018-06-28    Excellent\n",
       "        2018-06-29    Excellent\n",
       "        2018-07-02    Excellent\n",
       "        2018-07-03    Excellent\n",
       "        2018-07-04         Poor\n",
       "        2018-07-05    Excellent\n",
       "        2018-07-06    Excellent\n",
       "        2018-07-09    Excellent\n",
       "        2018-07-10    Excellent\n",
       "        2018-07-11    Excellent\n",
       "Name: Volume, Length: 1120, dtype: object"
      ]
     },
     "execution_count": 34,
     "metadata": {},
     "output_type": "execute_result"
    }
   ],
   "source": [
    "g['Volume'].apply(perf_rank)"
   ]
  },
  {
   "cell_type": "code",
   "execution_count": 25,
   "metadata": {
    "scrolled": false
   },
   "outputs": [
    {
     "data": {
      "text/plain": [
       "<matplotlib.axes._subplots.AxesSubplot at 0x216aefa6a90>"
      ]
     },
     "execution_count": 25,
     "metadata": {},
     "output_type": "execute_result"
    },
    {
     "data": {
      "image/png": "[encoded data removed]",
      "text/plain": [
       "<Figure size 432x288 with 1 Axes>"
      ]
     },
     "metadata": {},
     "output_type": "display_data"
    }
   ],
   "source": [
    "g['Volume'].apply(perf_rank).value_counts().plot(kind='pie',legend=True)"
   ]
  },
  {
   "cell_type": "code",
   "execution_count": null,
   "metadata": {},
   "outputs": [],
   "source": []
  },
  {
   "cell_type": "code",
   "execution_count": 12,
   "metadata": {},
   "outputs": [
    {
     "data": {
      "text/html": [
       "<div>\n",
       "<style scoped>\n",
       "    .dataframe tbody tr th:only-of-type {\n",
       "        vertical-align: middle;\n",
       "    }\n",
       "\n",
       "    .dataframe tbody tr th {\n",
       "        vertical-align: top;\n",
       "    }\n",
       "\n",
       "    .dataframe thead th {\n",
       "        text-align: right;\n",
       "    }\n",
       "</style>\n",
       "<table border=\"1\" class=\"dataframe\">\n",
       "  <thead>\n",
       "    <tr style=\"text-align: right;\">\n",
       "      <th></th>\n",
       "      <th>Open</th>\n",
       "      <th>High</th>\n",
       "      <th>Low</th>\n",
       "      <th>Close</th>\n",
       "      <th>Volume</th>\n",
       "      <th>ExDividend</th>\n",
       "      <th>SplitRatio</th>\n",
       "      <th>AdjOpen</th>\n",
       "      <th>AdjHigh</th>\n",
       "      <th>AdjLow</th>\n",
       "      <th>AdjClose</th>\n",
       "      <th>AdjVolume</th>\n",
       "    </tr>\n",
       "    <tr>\n",
       "      <th>Date</th>\n",
       "      <th></th>\n",
       "      <th></th>\n",
       "      <th></th>\n",
       "      <th></th>\n",
       "      <th></th>\n",
       "      <th></th>\n",
       "      <th></th>\n",
       "      <th></th>\n",
       "      <th></th>\n",
       "      <th></th>\n",
       "      <th></th>\n",
       "      <th></th>\n",
       "    </tr>\n",
       "  </thead>\n",
       "  <tbody>\n",
       "    <tr>\n",
       "      <th>2018-03-27</th>\n",
       "      <td>1063.00</td>\n",
       "      <td>1064.84</td>\n",
       "      <td>996.92</td>\n",
       "      <td>1005.10</td>\n",
       "      <td>3029471.0</td>\n",
       "      <td>0.0</td>\n",
       "      <td>1.0</td>\n",
       "      <td>1063.00</td>\n",
       "      <td>1064.84</td>\n",
       "      <td>996.92</td>\n",
       "      <td>1005.10</td>\n",
       "      <td>3029471.0</td>\n",
       "    </tr>\n",
       "    <tr>\n",
       "      <th>2018-03-26</th>\n",
       "      <td>1046.00</td>\n",
       "      <td>1055.63</td>\n",
       "      <td>1008.40</td>\n",
       "      <td>1053.21</td>\n",
       "      <td>2558385.0</td>\n",
       "      <td>0.0</td>\n",
       "      <td>1.0</td>\n",
       "      <td>1046.00</td>\n",
       "      <td>1055.63</td>\n",
       "      <td>1008.40</td>\n",
       "      <td>1053.21</td>\n",
       "      <td>2558385.0</td>\n",
       "    </tr>\n",
       "    <tr>\n",
       "      <th>2018-03-23</th>\n",
       "      <td>1047.03</td>\n",
       "      <td>1063.36</td>\n",
       "      <td>1021.22</td>\n",
       "      <td>1021.57</td>\n",
       "      <td>2113497.0</td>\n",
       "      <td>0.0</td>\n",
       "      <td>1.0</td>\n",
       "      <td>1047.03</td>\n",
       "      <td>1063.36</td>\n",
       "      <td>1021.22</td>\n",
       "      <td>1021.57</td>\n",
       "      <td>2113497.0</td>\n",
       "    </tr>\n",
       "  </tbody>\n",
       "</table>\n",
       "</div>"
      ],
      "text/plain": [
       "               Open     High      Low    Close     Volume  ExDividend  \\\n",
       "Date                                                                    \n",
       "2018-03-27  1063.00  1064.84   996.92  1005.10  3029471.0         0.0   \n",
       "2018-03-26  1046.00  1055.63  1008.40  1053.21  2558385.0         0.0   \n",
       "2018-03-23  1047.03  1063.36  1021.22  1021.57  2113497.0         0.0   \n",
       "\n",
       "            SplitRatio  AdjOpen  AdjHigh   AdjLow  AdjClose  AdjVolume  \n",
       "Date                                                                    \n",
       "2018-03-27         1.0  1063.00  1064.84   996.92   1005.10  3029471.0  \n",
       "2018-03-26         1.0  1046.00  1055.63  1008.40   1053.21  2558385.0  \n",
       "2018-03-23         1.0  1047.03  1063.36  1021.22   1021.57  2113497.0  "
      ]
     },
     "execution_count": 12,
     "metadata": {},
     "output_type": "execute_result"
    }
   ],
   "source": [
    "var_g=data.get_data_quandl('GOOG')\n",
    "var_g.head(3)"
   ]
  },
  {
   "cell_type": "code",
   "execution_count": 13,
   "metadata": {},
   "outputs": [],
   "source": [
    "#var_g.plot(y=['High','Close','Open'],kind='barh')"
   ]
  },
  {
   "cell_type": "code",
   "execution_count": 14,
   "metadata": {},
   "outputs": [],
   "source": [
    "def custom_round(value):\n",
    "    return int(value/1000000.0)*1000000 #to round of to lower bound 0"
   ]
  },
  {
   "cell_type": "code",
   "execution_count": 38,
   "metadata": {},
   "outputs": [
    {
     "data": {
      "text/plain": [
       "<matplotlib.axes._subplots.AxesSubplot at 0x216b96074a8>"
      ]
     },
     "execution_count": 38,
     "metadata": {},
     "output_type": "execute_result"
    },
    {
     "data": {
      "image/png": "[encoded data removed]",
      "text/plain": [
       "<Figure size 432x288 with 1 Axes>"
      ]
     },
     "metadata": {},
     "output_type": "display_data"
    }
   ],
   "source": [
    "var_g['Close'].apply(custom_round).value_counts().plot(kind='hist')"
   ]
  },
  {
   "cell_type": "code",
   "execution_count": null,
   "metadata": {},
   "outputs": [],
   "source": []
  }
 ],
 "metadata": {
  "kernelspec": {
   "display_name": "Python 3",
   "language": "python",
   "name": "python3"
  },
  "language_info": {
   "codemirror_mode": {
    "name": "ipython",
    "version": 3
   },
   "file_extension": ".py",
   "mimetype": "text/x-python",
   "name": "python",
   "nbconvert_exporter": "python",
   "pygments_lexer": "ipython3",
   "version": "3.6.5"
  }
 },
 "nbformat": 4,
 "nbformat_minor": 2
}
