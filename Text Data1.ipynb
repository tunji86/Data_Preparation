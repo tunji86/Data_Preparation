{
 "cells": [
  {
   "cell_type": "code",
   "execution_count": 1,
   "metadata": {},
   "outputs": [],
   "source": [
    "import pandas as pd"
   ]
  },
  {
   "cell_type": "code",
   "execution_count": 114,
   "metadata": {},
   "outputs": [],
   "source": [
    "DFchi = pd.read_csv(\"chicago.csv\", index_col='Name').dropna(how ='all')\n",
    "DFchi2 = pd.read_csv(\"chicago.csv\").dropna(how ='all')"
   ]
  },
  {
   "cell_type": "code",
   "execution_count": 74,
   "metadata": {},
   "outputs": [
    {
     "data": {
      "text/html": [
       "<div>\n",
       "<style scoped>\n",
       "    .dataframe tbody tr th:only-of-type {\n",
       "        vertical-align: middle;\n",
       "    }\n",
       "\n",
       "    .dataframe tbody tr th {\n",
       "        vertical-align: top;\n",
       "    }\n",
       "\n",
       "    .dataframe thead th {\n",
       "        text-align: right;\n",
       "    }\n",
       "</style>\n",
       "<table border=\"1\" class=\"dataframe\">\n",
       "  <thead>\n",
       "    <tr style=\"text-align: right;\">\n",
       "      <th></th>\n",
       "      <th>Position Title</th>\n",
       "      <th>Department</th>\n",
       "      <th>Employee Annual Salary</th>\n",
       "    </tr>\n",
       "    <tr>\n",
       "      <th>Name</th>\n",
       "      <th></th>\n",
       "      <th></th>\n",
       "      <th></th>\n",
       "    </tr>\n",
       "  </thead>\n",
       "  <tbody>\n",
       "    <tr>\n",
       "      <th>AARON,  ELVIA J</th>\n",
       "      <td>WATER RATE TAKER</td>\n",
       "      <td>WATER MGMNT</td>\n",
       "      <td>$90744.00</td>\n",
       "    </tr>\n",
       "    <tr>\n",
       "      <th>AARON,  JEFFERY M</th>\n",
       "      <td>POLICE OFFICER</td>\n",
       "      <td>POLICE</td>\n",
       "      <td>$84450.00</td>\n",
       "    </tr>\n",
       "    <tr>\n",
       "      <th>AARON,  KARINA</th>\n",
       "      <td>POLICE OFFICER</td>\n",
       "      <td>POLICE</td>\n",
       "      <td>$84450.00</td>\n",
       "    </tr>\n",
       "    <tr>\n",
       "      <th>AARON,  KIMBERLEI R</th>\n",
       "      <td>CHIEF CONTRACT EXPEDITER</td>\n",
       "      <td>GENERAL SERVICES</td>\n",
       "      <td>$89880.00</td>\n",
       "    </tr>\n",
       "    <tr>\n",
       "      <th>ABAD JR,  VICENTE M</th>\n",
       "      <td>CIVIL ENGINEER IV</td>\n",
       "      <td>WATER MGMNT</td>\n",
       "      <td>$106836.00</td>\n",
       "    </tr>\n",
       "  </tbody>\n",
       "</table>\n",
       "</div>"
      ],
      "text/plain": [
       "                               Position Title        Department  \\\n",
       "Name                                                              \n",
       "AARON,  ELVIA J              WATER RATE TAKER       WATER MGMNT   \n",
       "AARON,  JEFFERY M              POLICE OFFICER            POLICE   \n",
       "AARON,  KARINA                 POLICE OFFICER            POLICE   \n",
       "AARON,  KIMBERLEI R  CHIEF CONTRACT EXPEDITER  GENERAL SERVICES   \n",
       "ABAD JR,  VICENTE M         CIVIL ENGINEER IV       WATER MGMNT   \n",
       "\n",
       "                    Employee Annual Salary  \n",
       "Name                                        \n",
       "AARON,  ELVIA J                  $90744.00  \n",
       "AARON,  JEFFERY M                $84450.00  \n",
       "AARON,  KARINA                   $84450.00  \n",
       "AARON,  KIMBERLEI R              $89880.00  \n",
       "ABAD JR,  VICENTE M             $106836.00  "
      ]
     },
     "execution_count": 74,
     "metadata": {},
     "output_type": "execute_result"
    }
   ],
   "source": [
    "DFchi.head()"
   ]
  },
  {
   "cell_type": "code",
   "execution_count": 19,
   "metadata": {},
   "outputs": [
    {
     "name": "stdout",
     "output_type": "stream",
     "text": [
      "<class 'pandas.core.frame.DataFrame'>\n",
      "Int64Index: 32062 entries, 0 to 32061\n",
      "Data columns (total 4 columns):\n",
      "Name                      32062 non-null object\n",
      "Position Title            32062 non-null object\n",
      "Department                32062 non-null object\n",
      "Employee Annual Salary    32062 non-null object\n",
      "dtypes: object(4)\n",
      "memory usage: 1.2+ MB\n"
     ]
    }
   ],
   "source": [
    "DFchi.info()"
   ]
  },
  {
   "cell_type": "code",
   "execution_count": 20,
   "metadata": {},
   "outputs": [
    {
     "data": {
      "text/plain": [
       "35"
      ]
     },
     "execution_count": 20,
     "metadata": {},
     "output_type": "execute_result"
    }
   ],
   "source": [
    "DFchi['Department'].nunique()"
   ]
  },
  {
   "cell_type": "code",
   "execution_count": 21,
   "metadata": {},
   "outputs": [
    {
     "data": {
      "text/plain": [
       "32062"
      ]
     },
     "execution_count": 21,
     "metadata": {},
     "output_type": "execute_result"
    }
   ],
   "source": [
    "DFchi['Department'].count()"
   ]
  },
  {
   "cell_type": "code",
   "execution_count": 22,
   "metadata": {},
   "outputs": [],
   "source": [
    "DFchi['Department'] = DFchi['Department'].astype('category')"
   ]
  },
  {
   "cell_type": "code",
   "execution_count": null,
   "metadata": {},
   "outputs": [],
   "source": []
  },
  {
   "cell_type": "markdown",
   "metadata": {},
   "source": [
    ".lower(), .upper(), .title(), .len() Methods"
   ]
  },
  {
   "cell_type": "markdown",
   "metadata": {},
   "source": [
    "STRING METHODS REQUIRE .str AS A PREFIX# df.str.method()"
   ]
  },
  {
   "cell_type": "code",
   "execution_count": 23,
   "metadata": {
    "scrolled": true
   },
   "outputs": [
    {
     "data": {
      "text/plain": [
       "0                 Aaron,  Elvia J\n",
       "1               Aaron,  Jeffery M\n",
       "2                  Aaron,  Karina\n",
       "3             Aaron,  Kimberlei R\n",
       "4             Abad Jr,  Vicente M\n",
       "5                 Abarca,  Anabel\n",
       "6               Abarca,  Emmanuel\n",
       "7               Abascal,  Reece E\n",
       "8            Abbasi,  Christopher\n",
       "9           Abbatacola,  Robert J\n",
       "10          Abbatemarco,  James J\n",
       "11               Abbate,  Terry M\n",
       "12               Abbott,  Betty L\n",
       "13              Abbott,  Lynise M\n",
       "14         Abbruzzese,  William J\n",
       "15                Abdallah,  Zaid\n",
       "16          Abdelhadi,  Abdalmahd\n",
       "17            Abdellatif,  Aref R\n",
       "18             Abdelmajeid,  Aziz\n",
       "19            Abdollahzadeh,  Ali\n",
       "20       Abdul-Karim,  Muhammad A\n",
       "21            Abdullah,  Daniel N\n",
       "22               Abdullah,  Kevin\n",
       "23           Abdullah,  Lakenya N\n",
       "24            Abdullah,  Rashad J\n",
       "25           Abdulsattar,  Mudhar\n",
       "26           Abdul-Shakur,  Tahir\n",
       "27         Abdulwahab,  Abuubaida\n",
       "28              Abejero,  Jason V\n",
       "29        Abercrombie Iv,  Earl S\n",
       "                   ...           \n",
       "32032           Zuniga Jr,  James\n",
       "32033             Zuniga,  Juan M\n",
       "32034              Zuniga,  Oscar\n",
       "32035             Zuniga,  Ronald\n",
       "32036             Zuniga,  Thomas\n",
       "32037            Zuniga,  Vicente\n",
       "32038                 Zuno,  Erik\n",
       "32039              Zupan,  Bill M\n",
       "32040            Zupancic,  Kelly\n",
       "32041          Zurawski,  Carol A\n",
       "32042          Zurawski,  Jeffrey\n",
       "32043            Zurawski,  Mac Z\n",
       "32044           Zurawski,  Mary E\n",
       "32045             Zurek,  Francis\n",
       "32046              Zurek,  Mary H\n",
       "32047             Zurita,  Adriel\n",
       "32048             Zvanja,  Tina M\n",
       "32049      Zwarycz Mann,  Irene A\n",
       "32050          Zwarycz,  Thomas J\n",
       "32051          Zwiesler,  Matthew\n",
       "32052            Zwit,  Jeffrey J\n",
       "32053         Zwolfer,  Matthew W\n",
       "32054              Zych,  Mateusz\n",
       "32055               Zydek,  Bryan\n",
       "32056            Zygadlo,  John P\n",
       "32057         Zygadlo,  Michael J\n",
       "32058          Zygowicz,  Peter J\n",
       "32059           Zymantas,  Mark E\n",
       "32060         Zyrkowski,  Carlo E\n",
       "32061         Zyskowski,  Dariusz\n",
       "Name: Name, Length: 32062, dtype: object"
      ]
     },
     "execution_count": 23,
     "metadata": {},
     "output_type": "execute_result"
    }
   ],
   "source": [
    "DFchi['Name'].str.title()"
   ]
  },
  {
   "cell_type": "code",
   "execution_count": 28,
   "metadata": {
    "collapsed": true
   },
   "outputs": [
    {
     "data": {
      "text/plain": [
       "0        WATER MANAGEMENT\n",
       "1                  POLICE\n",
       "2                  POLICE\n",
       "3        GENERAL SERVICES\n",
       "4        WATER MANAGEMENT\n",
       "5            CITY COUNCIL\n",
       "6           STREETS & SAN\n",
       "7                    OEMC\n",
       "8            CITY COUNCIL\n",
       "9                AVIATION\n",
       "10                   FIRE\n",
       "11                 POLICE\n",
       "12       FAMILY & SUPPORT\n",
       "13                 POLICE\n",
       "14                   IPRA\n",
       "15                 POLICE\n",
       "16                 POLICE\n",
       "17                   FIRE\n",
       "18                 POLICE\n",
       "19                   FIRE\n",
       "20       WATER MANAGEMENT\n",
       "21                   FIRE\n",
       "22                   FIRE\n",
       "23                   OEMC\n",
       "24       GENERAL SERVICES\n",
       "25       WATER MANAGEMENT\n",
       "26          STREETS & SAN\n",
       "27       FAMILY & SUPPORT\n",
       "28                 POLICE\n",
       "29                   FIRE\n",
       "               ...       \n",
       "32032    GENERAL SERVICES\n",
       "32033              POLICE\n",
       "32034              POLICE\n",
       "32035              POLICE\n",
       "32036       STREETS & SAN\n",
       "32037                FIRE\n",
       "32038    WATER MANAGEMENT\n",
       "32039                FIRE\n",
       "32040              POLICE\n",
       "32041                OEMC\n",
       "32042    GENERAL SERVICES\n",
       "32043       STREETS & SAN\n",
       "32044              POLICE\n",
       "32045                OEMC\n",
       "32046             FINANCE\n",
       "32047              POLICE\n",
       "32048                 LAW\n",
       "32049                OEMC\n",
       "32050    WATER MANAGEMENT\n",
       "32051            AVIATION\n",
       "32052              POLICE\n",
       "32053                FIRE\n",
       "32054              POLICE\n",
       "32055              POLICE\n",
       "32056    GENERAL SERVICES\n",
       "32057    GENERAL SERVICES\n",
       "32058              POLICE\n",
       "32059              POLICE\n",
       "32060              POLICE\n",
       "32061                DoIT\n",
       "Name: Department, Length: 32062, dtype: object"
      ]
     },
     "execution_count": 28,
     "metadata": {},
     "output_type": "execute_result"
    }
   ],
   "source": [
    "#.str.replace() Method\n",
    "DFchi['Department'].str.replace('MGMNT','MANAGEMENT')# Method\n"
   ]
  },
  {
   "cell_type": "code",
   "execution_count": 45,
   "metadata": {},
   "outputs": [],
   "source": [
    "#remove $ sign and change column type\n",
    "DFchi['Employee Annual Salary'] = DFchi['Employee Annual Salary'].str.replace('$',\"\").astype(float)"
   ]
  },
  {
   "cell_type": "markdown",
   "metadata": {},
   "source": [
    "Before searching for or filtering strings, it is necessary to convert all data to either .upper() or .lower() "
   ]
  },
  {
   "cell_type": "code",
   "execution_count": 59,
   "metadata": {},
   "outputs": [],
   "source": [
    "#FILTERING TEXT .contains, .startswith(), .endswith()\n",
    "x = DFchi['Department'].str.lower().str.contains(\"police\")"
   ]
  },
  {
   "cell_type": "code",
   "execution_count": 60,
   "metadata": {},
   "outputs": [
    {
     "data": {
      "text/html": [
       "<div>\n",
       "<style scoped>\n",
       "    .dataframe tbody tr th:only-of-type {\n",
       "        vertical-align: middle;\n",
       "    }\n",
       "\n",
       "    .dataframe tbody tr th {\n",
       "        vertical-align: top;\n",
       "    }\n",
       "\n",
       "    .dataframe thead th {\n",
       "        text-align: right;\n",
       "    }\n",
       "</style>\n",
       "<table border=\"1\" class=\"dataframe\">\n",
       "  <thead>\n",
       "    <tr style=\"text-align: right;\">\n",
       "      <th></th>\n",
       "      <th>Name</th>\n",
       "      <th>Position Title</th>\n",
       "      <th>Department</th>\n",
       "      <th>Employee Annual Salary</th>\n",
       "    </tr>\n",
       "  </thead>\n",
       "  <tbody>\n",
       "    <tr>\n",
       "      <th>1</th>\n",
       "      <td>AARON,  JEFFERY M</td>\n",
       "      <td>POLICE OFFICER</td>\n",
       "      <td>POLICE</td>\n",
       "      <td>84450.0</td>\n",
       "    </tr>\n",
       "    <tr>\n",
       "      <th>2</th>\n",
       "      <td>AARON,  KARINA</td>\n",
       "      <td>POLICE OFFICER</td>\n",
       "      <td>POLICE</td>\n",
       "      <td>84450.0</td>\n",
       "    </tr>\n",
       "    <tr>\n",
       "      <th>11</th>\n",
       "      <td>ABBATE,  TERRY M</td>\n",
       "      <td>POLICE OFFICER</td>\n",
       "      <td>POLICE</td>\n",
       "      <td>90618.0</td>\n",
       "    </tr>\n",
       "    <tr>\n",
       "      <th>13</th>\n",
       "      <td>ABBOTT,  LYNISE M</td>\n",
       "      <td>CLERK III</td>\n",
       "      <td>POLICE</td>\n",
       "      <td>46896.0</td>\n",
       "    </tr>\n",
       "    <tr>\n",
       "      <th>15</th>\n",
       "      <td>ABDALLAH,  ZAID</td>\n",
       "      <td>POLICE OFFICER</td>\n",
       "      <td>POLICE</td>\n",
       "      <td>74028.0</td>\n",
       "    </tr>\n",
       "  </tbody>\n",
       "</table>\n",
       "</div>"
      ],
      "text/plain": [
       "                 Name  Position Title Department  Employee Annual Salary\n",
       "1   AARON,  JEFFERY M  POLICE OFFICER     POLICE                 84450.0\n",
       "2      AARON,  KARINA  POLICE OFFICER     POLICE                 84450.0\n",
       "11   ABBATE,  TERRY M  POLICE OFFICER     POLICE                 90618.0\n",
       "13  ABBOTT,  LYNISE M       CLERK III     POLICE                 46896.0\n",
       "15    ABDALLAH,  ZAID  POLICE OFFICER     POLICE                 74028.0"
      ]
     },
     "execution_count": 60,
     "metadata": {},
     "output_type": "execute_result"
    }
   ],
   "source": [
    "DFchi[x].head()"
   ]
  },
  {
   "cell_type": "code",
   "execution_count": 66,
   "metadata": {
    "collapsed": true
   },
   "outputs": [
    {
     "data": {
      "text/plain": [
       "0            WATER RATE TAKER\n",
       "1              POLICE OFFICER\n",
       "2              POLICE OFFICER\n",
       "3    CHIEF CONTRACT EXPEDITER\n",
       "4           CIVIL ENGINEER IV\n",
       "Name: Position Title, dtype: object"
      ]
     },
     "execution_count": 66,
     "metadata": {},
     "output_type": "execute_result"
    }
   ],
   "source": [
    "DFchi['Position Title'].head()"
   ]
  },
  {
   "cell_type": "markdown",
   "metadata": {},
   "source": [
    "FOR REMOVING WHITE SPACE .strip(), .lstrip(), .rstrip() Methods"
   ]
  },
  {
   "cell_type": "code",
   "execution_count": 67,
   "metadata": {
    "collapsed": true
   },
   "outputs": [
    {
     "data": {
      "text/plain": [
       "0                                     WATER RATE TAKER\n",
       "1                                       POLICE OFFICER\n",
       "2                                       POLICE OFFICER\n",
       "3                             CHIEF CONTRACT EXPEDITER\n",
       "4                                    CIVIL ENGINEER IV\n",
       "5                                 ASST TO THE ALDERMAN\n",
       "6                                GENERAL LABORER - DSS\n",
       "7                          TRAFFIC CONTROL AIDE-HOURLY\n",
       "8                           STAFF ASST TO THE ALDERMAN\n",
       "9                                  ELECTRICAL MECHANIC\n",
       "10                                   FIRE ENGINEER-EMT\n",
       "11                                      POLICE OFFICER\n",
       "12                                  FOSTER GRANDPARENT\n",
       "13                                           CLERK III\n",
       "14                              INVESTIGATOR - IPRA II\n",
       "15                                      POLICE OFFICER\n",
       "16                                      POLICE OFFICER\n",
       "17       FIREFIGHTER (PER ARBITRATORS AWARD)-PARAMEDIC\n",
       "18                                      POLICE OFFICER\n",
       "19                               FIREFIGHTER/PARAMEDIC\n",
       "20                           ENGINEERING TECHNICIAN VI\n",
       "21                                     FIREFIGHTER-EMT\n",
       "22                                          LIEUTENANT\n",
       "23                                      CROSSING GUARD\n",
       "24             ELECTRICAL MECHANIC-AUTO-POLICE MTR MNT\n",
       "25                                   CIVIL ENGINEER II\n",
       "26                               GENERAL LABORER - DSS\n",
       "27                                  FOSTER GRANDPARENT\n",
       "28                                      POLICE OFFICER\n",
       "29                                           PARAMEDIC\n",
       "                             ...                      \n",
       "32032                                 GARAGE ATTENDANT\n",
       "32033                                   POLICE OFFICER\n",
       "32034                                   POLICE OFFICER\n",
       "32035                                   POLICE OFFICER\n",
       "32036                            GENERAL LABORER - DSS\n",
       "32037                                  FIREFIGHTER-EMT\n",
       "32038                             LABORER - APPRENTICE\n",
       "32039                                   LIEUTENANT-EMT\n",
       "32040                                   POLICE OFFICER\n",
       "32041                                   CROSSING GUARD\n",
       "32042                   FRM OF MACHINISTS - AUTOMOTIVE\n",
       "32043                               SANITATION LABORER\n",
       "32044                                   POLICE OFFICER\n",
       "32045                              ELECTRICAL MECHANIC\n",
       "32046                SENIOR PUBLIC INFORMATION OFFICER\n",
       "32047                                   POLICE OFFICER\n",
       "32048                                  LEGAL SECRETARY\n",
       "32049                                   CROSSING GUARD\n",
       "32050                          POOL MOTOR TRUCK DRIVER\n",
       "32051                      AIRPORT OPERATIONS SUPVSR I\n",
       "32052                                   POLICE OFFICER\n",
       "32053                                  FIREFIGHTER-EMT\n",
       "32054                                   POLICE OFFICER\n",
       "32055                                   POLICE OFFICER\n",
       "32056                           MACHINIST (AUTOMOTIVE)\n",
       "32057                   FRM OF MACHINISTS - AUTOMOTIVE\n",
       "32058                                   POLICE OFFICER\n",
       "32059                                   POLICE OFFICER\n",
       "32060                                   POLICE OFFICER\n",
       "32061                          CHIEF DATA BASE ANALYST\n",
       "Name: Position Title, Length: 32062, dtype: object"
      ]
     },
     "execution_count": 67,
     "metadata": {},
     "output_type": "execute_result"
    }
   ],
   "source": [
    "DFchi['Position Title'].str.strip()"
   ]
  },
  {
   "cell_type": "code",
   "execution_count": null,
   "metadata": {},
   "outputs": [],
   "source": []
  },
  {
   "cell_type": "markdown",
   "metadata": {},
   "source": [
    "STRING METHODS ON INDEXES AND COLUMN"
   ]
  },
  {
   "cell_type": "code",
   "execution_count": 76,
   "metadata": {},
   "outputs": [
    {
     "data": {
      "text/html": [
       "<div>\n",
       "<style scoped>\n",
       "    .dataframe tbody tr th:only-of-type {\n",
       "        vertical-align: middle;\n",
       "    }\n",
       "\n",
       "    .dataframe tbody tr th {\n",
       "        vertical-align: top;\n",
       "    }\n",
       "\n",
       "    .dataframe thead th {\n",
       "        text-align: right;\n",
       "    }\n",
       "</style>\n",
       "<table border=\"1\" class=\"dataframe\">\n",
       "  <thead>\n",
       "    <tr style=\"text-align: right;\">\n",
       "      <th></th>\n",
       "      <th>Position Title</th>\n",
       "      <th>Department</th>\n",
       "      <th>Employee Annual Salary</th>\n",
       "    </tr>\n",
       "    <tr>\n",
       "      <th>Name</th>\n",
       "      <th></th>\n",
       "      <th></th>\n",
       "      <th></th>\n",
       "    </tr>\n",
       "  </thead>\n",
       "  <tbody>\n",
       "    <tr>\n",
       "      <th>AARON,  ELVIA J</th>\n",
       "      <td>WATER RATE TAKER</td>\n",
       "      <td>WATER MGMNT</td>\n",
       "      <td>$90744.00</td>\n",
       "    </tr>\n",
       "    <tr>\n",
       "      <th>AARON,  JEFFERY M</th>\n",
       "      <td>POLICE OFFICER</td>\n",
       "      <td>POLICE</td>\n",
       "      <td>$84450.00</td>\n",
       "    </tr>\n",
       "  </tbody>\n",
       "</table>\n",
       "</div>"
      ],
      "text/plain": [
       "                     Position Title   Department Employee Annual Salary\n",
       "Name                                                                   \n",
       "AARON,  ELVIA J    WATER RATE TAKER  WATER MGMNT              $90744.00\n",
       "AARON,  JEFFERY M    POLICE OFFICER       POLICE              $84450.00"
      ]
     },
     "execution_count": 76,
     "metadata": {},
     "output_type": "execute_result"
    }
   ],
   "source": [
    "DFchi.head(2)"
   ]
  },
  {
   "cell_type": "code",
   "execution_count": 79,
   "metadata": {},
   "outputs": [],
   "source": [
    "DFchi.index = DFchi.index.str.strip()"
   ]
  },
  {
   "cell_type": "code",
   "execution_count": 80,
   "metadata": {},
   "outputs": [
    {
     "data": {
      "text/html": [
       "<div>\n",
       "<style scoped>\n",
       "    .dataframe tbody tr th:only-of-type {\n",
       "        vertical-align: middle;\n",
       "    }\n",
       "\n",
       "    .dataframe tbody tr th {\n",
       "        vertical-align: top;\n",
       "    }\n",
       "\n",
       "    .dataframe thead th {\n",
       "        text-align: right;\n",
       "    }\n",
       "</style>\n",
       "<table border=\"1\" class=\"dataframe\">\n",
       "  <thead>\n",
       "    <tr style=\"text-align: right;\">\n",
       "      <th></th>\n",
       "      <th>Position Title</th>\n",
       "      <th>Department</th>\n",
       "      <th>Employee Annual Salary</th>\n",
       "    </tr>\n",
       "    <tr>\n",
       "      <th>Name</th>\n",
       "      <th></th>\n",
       "      <th></th>\n",
       "      <th></th>\n",
       "    </tr>\n",
       "  </thead>\n",
       "  <tbody>\n",
       "    <tr>\n",
       "      <th>AARON,  ELVIA J</th>\n",
       "      <td>WATER RATE TAKER</td>\n",
       "      <td>WATER MGMNT</td>\n",
       "      <td>$90744.00</td>\n",
       "    </tr>\n",
       "    <tr>\n",
       "      <th>AARON,  JEFFERY M</th>\n",
       "      <td>POLICE OFFICER</td>\n",
       "      <td>POLICE</td>\n",
       "      <td>$84450.00</td>\n",
       "    </tr>\n",
       "    <tr>\n",
       "      <th>AARON,  KARINA</th>\n",
       "      <td>POLICE OFFICER</td>\n",
       "      <td>POLICE</td>\n",
       "      <td>$84450.00</td>\n",
       "    </tr>\n",
       "    <tr>\n",
       "      <th>AARON,  KIMBERLEI R</th>\n",
       "      <td>CHIEF CONTRACT EXPEDITER</td>\n",
       "      <td>GENERAL SERVICES</td>\n",
       "      <td>$89880.00</td>\n",
       "    </tr>\n",
       "    <tr>\n",
       "      <th>ABAD JR,  VICENTE M</th>\n",
       "      <td>CIVIL ENGINEER IV</td>\n",
       "      <td>WATER MGMNT</td>\n",
       "      <td>$106836.00</td>\n",
       "    </tr>\n",
       "  </tbody>\n",
       "</table>\n",
       "</div>"
      ],
      "text/plain": [
       "                               Position Title        Department  \\\n",
       "Name                                                              \n",
       "AARON,  ELVIA J              WATER RATE TAKER       WATER MGMNT   \n",
       "AARON,  JEFFERY M              POLICE OFFICER            POLICE   \n",
       "AARON,  KARINA                 POLICE OFFICER            POLICE   \n",
       "AARON,  KIMBERLEI R  CHIEF CONTRACT EXPEDITER  GENERAL SERVICES   \n",
       "ABAD JR,  VICENTE M         CIVIL ENGINEER IV       WATER MGMNT   \n",
       "\n",
       "                    Employee Annual Salary  \n",
       "Name                                        \n",
       "AARON,  ELVIA J                  $90744.00  \n",
       "AARON,  JEFFERY M                $84450.00  \n",
       "AARON,  KARINA                   $84450.00  \n",
       "AARON,  KIMBERLEI R              $89880.00  \n",
       "ABAD JR,  VICENTE M             $106836.00  "
      ]
     },
     "execution_count": 80,
     "metadata": {},
     "output_type": "execute_result"
    }
   ],
   "source": [
    "DFchi.head()"
   ]
  },
  {
   "cell_type": "code",
   "execution_count": 85,
   "metadata": {},
   "outputs": [],
   "source": [
    "DFchi.columns = DFchi.columns.str.title()"
   ]
  },
  {
   "cell_type": "code",
   "execution_count": 86,
   "metadata": {},
   "outputs": [
    {
     "data": {
      "text/html": [
       "<div>\n",
       "<style scoped>\n",
       "    .dataframe tbody tr th:only-of-type {\n",
       "        vertical-align: middle;\n",
       "    }\n",
       "\n",
       "    .dataframe tbody tr th {\n",
       "        vertical-align: top;\n",
       "    }\n",
       "\n",
       "    .dataframe thead th {\n",
       "        text-align: right;\n",
       "    }\n",
       "</style>\n",
       "<table border=\"1\" class=\"dataframe\">\n",
       "  <thead>\n",
       "    <tr style=\"text-align: right;\">\n",
       "      <th></th>\n",
       "      <th>Position Title</th>\n",
       "      <th>Department</th>\n",
       "      <th>Employee Annual Salary</th>\n",
       "    </tr>\n",
       "    <tr>\n",
       "      <th>Name</th>\n",
       "      <th></th>\n",
       "      <th></th>\n",
       "      <th></th>\n",
       "    </tr>\n",
       "  </thead>\n",
       "  <tbody>\n",
       "    <tr>\n",
       "      <th>AARON,  ELVIA J</th>\n",
       "      <td>WATER RATE TAKER</td>\n",
       "      <td>WATER MGMNT</td>\n",
       "      <td>$90744.00</td>\n",
       "    </tr>\n",
       "    <tr>\n",
       "      <th>AARON,  JEFFERY M</th>\n",
       "      <td>POLICE OFFICER</td>\n",
       "      <td>POLICE</td>\n",
       "      <td>$84450.00</td>\n",
       "    </tr>\n",
       "    <tr>\n",
       "      <th>AARON,  KARINA</th>\n",
       "      <td>POLICE OFFICER</td>\n",
       "      <td>POLICE</td>\n",
       "      <td>$84450.00</td>\n",
       "    </tr>\n",
       "    <tr>\n",
       "      <th>AARON,  KIMBERLEI R</th>\n",
       "      <td>CHIEF CONTRACT EXPEDITER</td>\n",
       "      <td>GENERAL SERVICES</td>\n",
       "      <td>$89880.00</td>\n",
       "    </tr>\n",
       "    <tr>\n",
       "      <th>ABAD JR,  VICENTE M</th>\n",
       "      <td>CIVIL ENGINEER IV</td>\n",
       "      <td>WATER MGMNT</td>\n",
       "      <td>$106836.00</td>\n",
       "    </tr>\n",
       "  </tbody>\n",
       "</table>\n",
       "</div>"
      ],
      "text/plain": [
       "                               Position Title        Department  \\\n",
       "Name                                                              \n",
       "AARON,  ELVIA J              WATER RATE TAKER       WATER MGMNT   \n",
       "AARON,  JEFFERY M              POLICE OFFICER            POLICE   \n",
       "AARON,  KARINA                 POLICE OFFICER            POLICE   \n",
       "AARON,  KIMBERLEI R  CHIEF CONTRACT EXPEDITER  GENERAL SERVICES   \n",
       "ABAD JR,  VICENTE M         CIVIL ENGINEER IV       WATER MGMNT   \n",
       "\n",
       "                    Employee Annual Salary  \n",
       "Name                                        \n",
       "AARON,  ELVIA J                  $90744.00  \n",
       "AARON,  JEFFERY M                $84450.00  \n",
       "AARON,  KARINA                   $84450.00  \n",
       "AARON,  KIMBERLEI R              $89880.00  \n",
       "ABAD JR,  VICENTE M             $106836.00  "
      ]
     },
     "execution_count": 86,
     "metadata": {},
     "output_type": "execute_result"
    }
   ],
   "source": [
    "DFchi.head()"
   ]
  },
  {
   "cell_type": "code",
   "execution_count": null,
   "metadata": {},
   "outputs": [],
   "source": []
  },
  {
   "cell_type": "markdown",
   "metadata": {},
   "source": [
    ".split() Method"
   ]
  },
  {
   "cell_type": "code",
   "execution_count": 93,
   "metadata": {},
   "outputs": [],
   "source": [
    "c = DFchi['Position Title'].str.split(' ').str.get(0)"
   ]
  },
  {
   "cell_type": "code",
   "execution_count": 109,
   "metadata": {},
   "outputs": [
    {
     "data": {
      "text/plain": [
       "POLICE    10856\n",
       "Name: Position Title, dtype: int64"
      ]
     },
     "execution_count": 109,
     "metadata": {},
     "output_type": "execute_result"
    }
   ],
   "source": [
    "c.value_counts().head(1)"
   ]
  },
  {
   "cell_type": "code",
   "execution_count": 113,
   "metadata": {},
   "outputs": [
    {
     "data": {
      "text/plain": [
       "OFFICER    10400\n",
       "Name: Position Title, dtype: int64"
      ]
     },
     "execution_count": 113,
     "metadata": {},
     "output_type": "execute_result"
    }
   ],
   "source": [
    "DFchi['Position Title'].str.split(' ').str.get(1).value_counts().head(1)"
   ]
  },
  {
   "cell_type": "code",
   "execution_count": 136,
   "metadata": {},
   "outputs": [
    {
     "data": {
      "text/plain": [
       "0        ELVIA\n",
       "1      JEFFERY\n",
       "2       KARINA\n",
       "3    KIMBERLEI\n",
       "4      VICENTE\n",
       "Name: Name, dtype: object"
      ]
     },
     "execution_count": 136,
     "metadata": {},
     "output_type": "execute_result"
    }
   ],
   "source": [
    "DFchi2['Name'].str.split(',').str.get(1).str.strip().str.split(\" \").str.get(0).head()#.str.strip()#.value_counts().head(2)"
   ]
  },
  {
   "cell_type": "code",
   "execution_count": null,
   "metadata": {},
   "outputs": [],
   "source": []
  },
  {
   "cell_type": "code",
   "execution_count": 157,
   "metadata": {},
   "outputs": [
    {
     "data": {
      "text/html": [
       "<div>\n",
       "<style scoped>\n",
       "    .dataframe tbody tr th:only-of-type {\n",
       "        vertical-align: middle;\n",
       "    }\n",
       "\n",
       "    .dataframe tbody tr th {\n",
       "        vertical-align: top;\n",
       "    }\n",
       "\n",
       "    .dataframe thead th {\n",
       "        text-align: right;\n",
       "    }\n",
       "</style>\n",
       "<table border=\"1\" class=\"dataframe\">\n",
       "  <thead>\n",
       "    <tr style=\"text-align: right;\">\n",
       "      <th></th>\n",
       "      <th>Column One</th>\n",
       "      <th>Column Two</th>\n",
       "    </tr>\n",
       "    <tr>\n",
       "      <th>Name</th>\n",
       "      <th></th>\n",
       "      <th></th>\n",
       "    </tr>\n",
       "  </thead>\n",
       "  <tbody>\n",
       "    <tr>\n",
       "      <th>AARON,  ELVIA J</th>\n",
       "      <td>WATER</td>\n",
       "      <td>RATE TAKER</td>\n",
       "    </tr>\n",
       "    <tr>\n",
       "      <th>AARON,  JEFFERY M</th>\n",
       "      <td>POLICE</td>\n",
       "      <td>OFFICER</td>\n",
       "    </tr>\n",
       "    <tr>\n",
       "      <th>AARON,  KARINA</th>\n",
       "      <td>POLICE</td>\n",
       "      <td>OFFICER</td>\n",
       "    </tr>\n",
       "    <tr>\n",
       "      <th>AARON,  KIMBERLEI R</th>\n",
       "      <td>CHIEF</td>\n",
       "      <td>CONTRACT EXPEDITER</td>\n",
       "    </tr>\n",
       "    <tr>\n",
       "      <th>ABAD JR,  VICENTE M</th>\n",
       "      <td>CIVIL</td>\n",
       "      <td>ENGINEER IV</td>\n",
       "    </tr>\n",
       "  </tbody>\n",
       "</table>\n",
       "</div>"
      ],
      "text/plain": [
       "                    Column One          Column Two\n",
       "Name                                              \n",
       "AARON,  ELVIA J          WATER          RATE TAKER\n",
       "AARON,  JEFFERY M       POLICE             OFFICER\n",
       "AARON,  KARINA          POLICE             OFFICER\n",
       "AARON,  KIMBERLEI R      CHIEF  CONTRACT EXPEDITER\n",
       "ABAD JR,  VICENTE M      CIVIL         ENGINEER IV"
      ]
     },
     "execution_count": 157,
     "metadata": {},
     "output_type": "execute_result"
    }
   ],
   "source": [
    "DFchi[[\"Column One\",\"Column Two\"]] = DFchi['Position Title'].str.split(' ', expand=True, n=1)\n",
    "DFchi[[\"Column One\",\"Column Two\"]].head()"
   ]
  },
  {
   "cell_type": "code",
   "execution_count": null,
   "metadata": {},
   "outputs": [],
   "source": [
    "s.str.split()"
   ]
  }
 ],
 "metadata": {
  "kernelspec": {
   "display_name": "Python 3",
   "language": "python",
   "name": "python3"
  },
  "language_info": {
   "codemirror_mode": {
    "name": "ipython",
    "version": 3
   },
   "file_extension": ".py",
   "mimetype": "text/x-python",
   "name": "python",
   "nbconvert_exporter": "python",
   "pygments_lexer": "ipython3",
   "version": "3.6.5"
  }
 },
 "nbformat": 4,
 "nbformat_minor": 2
}
